{
 "cells": [
  {
   "cell_type": "code",
   "execution_count": 1,
   "id": "f06ff84d",
   "metadata": {},
   "outputs": [],
   "source": [
    "filenames = [\"../nodule03.yaml\", \"../nodule11.yaml\", \n",
    "            \"../nodule12.yaml\", \"../nodule13.yaml\", \"../nodule21.yaml\", \"../nodule22.yaml\",\n",
    "            \"../nodule23.yaml\"]"
   ]
  },
  {
   "cell_type": "code",
   "execution_count": 2,
   "id": "2415c2ee",
   "metadata": {},
   "outputs": [
    {
     "name": "stdout",
     "output_type": "stream",
     "text": [
      "python3.6 train.py --img 1024 --batch 8 --epochs 30 --data ../nodule03.yaml --weights yolov5x.pt --cache\n",
      "python3.6 train.py --img 1024 --batch 8 --epochs 30 --data ../nodule11.yaml --weights yolov5x.pt --cache\n",
      "python3.6 train.py --img 1024 --batch 8 --epochs 30 --data ../nodule12.yaml --weights yolov5x.pt --cache\n",
      "python3.6 train.py --img 1024 --batch 8 --epochs 30 --data ../nodule13.yaml --weights yolov5x.pt --cache\n",
      "python3.6 train.py --img 1024 --batch 8 --epochs 30 --data ../nodule21.yaml --weights yolov5x.pt --cache\n",
      "python3.6 train.py --img 1024 --batch 8 --epochs 30 --data ../nodule22.yaml --weights yolov5x.pt --cache\n",
      "python3.6 train.py --img 1024 --batch 8 --epochs 30 --data ../nodule23.yaml --weights yolov5x.pt --cache\n"
     ]
    }
   ],
   "source": [
    "import os\n",
    "\n",
    "for fname in filenames:\n",
    "    command = \"python3.6 train.py --img 1024 --batch 8 --epochs 30 --data \" + \\\n",
    "    str(fname) + \" --weights yolov5x.pt --cache\"\n",
    "    print(command)\n",
    "    os.system(command)"
   ]
  },
  {
   "cell_type": "code",
   "execution_count": null,
   "id": "7f46c96e",
   "metadata": {},
   "outputs": [],
   "source": []
  }
 ],
 "metadata": {
  "kernelspec": {
   "display_name": "Python 3",
   "language": "python",
   "name": "python3"
  },
  "language_info": {
   "codemirror_mode": {
    "name": "ipython",
    "version": 3
   },
   "file_extension": ".py",
   "mimetype": "text/x-python",
   "name": "python",
   "nbconvert_exporter": "python",
   "pygments_lexer": "ipython3",
   "version": "3.6.9"
  }
 },
 "nbformat": 4,
 "nbformat_minor": 5
}
